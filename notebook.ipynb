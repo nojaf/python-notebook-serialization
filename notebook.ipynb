{
 "cells": [
  {
   "cell_type": "code",
   "execution_count": null,
   "metadata": {},
   "outputs": [],
   "source": [
    "import plotly.express as px\n",
    "import random\n",
    "x = []\n",
    "y = []\n",
    "for i in range(100000):\n",
    "    random_number = random.randint(1, 10000)\n",
    "    x.append(i + random_number)\n",
    "    y.append(i + random_number)\n",
    "fig = px.scatter(x, y)\n",
    "\n",
    "fig.show()"
   ]
  },
  {
   "cell_type": "code",
   "execution_count": null,
   "metadata": {},
   "outputs": [],
   "source": [
    "import plotly.express as px\n",
    "import random\n",
    "x = []\n",
    "y = []\n",
    "for i in range(100000):\n",
    "    random_number = random.randint(1, 10000)\n",
    "    x.append(i + random_number)\n",
    "    y.append(i + random_number)\n",
    "fig = px.scatter(x, y)\n",
    "\n",
    "fig.show()"
   ]
  },
  {
   "cell_type": "code",
   "execution_count": null,
   "metadata": {},
   "outputs": [],
   "source": [
    "import plotly.express as px\n",
    "import random\n",
    "x = []\n",
    "y = []\n",
    "for i in range(100000):\n",
    "    random_number = random.randint(1, 10000)\n",
    "    x.append(i + random_number)\n",
    "    y.append(i + random_number)\n",
    "fig = px.scatter(x, y)\n",
    "\n",
    "fig.show()"
   ]
  },
  {
   "cell_type": "code",
   "execution_count": null,
   "metadata": {},
   "outputs": [],
   "source": [
    "import plotly.express as px\n",
    "import random\n",
    "x = []\n",
    "y = []\n",
    "for i in range(100000):\n",
    "    random_number = random.randint(1, 10000)\n",
    "    x.append(i + random_number)\n",
    "    y.append(i + random_number)\n",
    "fig = px.scatter(x, y)\n",
    "\n",
    "fig.show()"
   ]
  },
  {
   "cell_type": "code",
   "execution_count": null,
   "metadata": {},
   "outputs": [],
   "source": [
    "import plotly.express as px\n",
    "import random\n",
    "x = []\n",
    "y = []\n",
    "for i in range(100000):\n",
    "    random_number = random.randint(1, 10000)\n",
    "    x.append(i + random_number)\n",
    "    y.append(i + random_number)\n",
    "fig = px.scatter(x, y)\n",
    "\n",
    "fig.show()"
   ]
  },
  {
   "cell_type": "code",
   "execution_count": null,
   "metadata": {},
   "outputs": [],
   "source": [
    "import plotly.express as px\n",
    "import random\n",
    "x = []\n",
    "y = []\n",
    "for i in range(100000):\n",
    "    random_number = random.randint(1, 10000)\n",
    "    x.append(i + random_number)\n",
    "    y.append(i + random_number)\n",
    "fig = px.scatter(x, y)\n",
    "\n",
    "fig.show()"
   ]
  },
  {
   "cell_type": "code",
   "execution_count": null,
   "metadata": {},
   "outputs": [],
   "source": [
    "import plotly.express as px\n",
    "import random\n",
    "x = []\n",
    "y = []\n",
    "for i in range(100000):\n",
    "    random_number = random.randint(1, 10000)\n",
    "    x.append(i + random_number)\n",
    "    y.append(i + random_number)\n",
    "fig = px.scatter(x, y)\n",
    "\n",
    "fig.show()"
   ]
  },
  {
   "cell_type": "code",
   "execution_count": null,
   "metadata": {},
   "outputs": [],
   "source": [
    "import plotly.express as px\n",
    "import random\n",
    "x = []\n",
    "y = []\n",
    "for i in range(100000):\n",
    "    random_number = random.randint(1, 10000)\n",
    "    x.append(i + random_number)\n",
    "    y.append(i + random_number)\n",
    "fig = px.scatter(x, y)\n",
    "\n",
    "fig.show()"
   ]
  },
  {
   "cell_type": "code",
   "execution_count": null,
   "metadata": {},
   "outputs": [],
   "source": [
    "import plotly.express as px\n",
    "import random\n",
    "x = []\n",
    "y = []\n",
    "for i in range(100000):\n",
    "    random_number = random.randint(1, 10000)\n",
    "    x.append(i + random_number)\n",
    "    y.append(i + random_number)\n",
    "fig = px.scatter(x, y)\n",
    "\n",
    "fig.show()"
   ]
  },
  {
   "cell_type": "code",
   "execution_count": null,
   "metadata": {},
   "outputs": [],
   "source": [
    "import plotly.express as px\n",
    "import random\n",
    "x = []\n",
    "y = []\n",
    "for i in range(100000):\n",
    "    random_number = random.randint(1, 10000)\n",
    "    x.append(i + random_number)\n",
    "    y.append(i + random_number)\n",
    "fig = px.scatter(x, y)\n",
    "\n",
    "fig.show()"
   ]
  },
  {
   "cell_type": "code",
   "execution_count": null,
   "metadata": {},
   "outputs": [],
   "source": [
    "import plotly.express as px\n",
    "import random\n",
    "x = []\n",
    "y = []\n",
    "for i in range(100000):\n",
    "    random_number = random.randint(1, 10000)\n",
    "    x.append(i + random_number)\n",
    "    y.append(i + random_number)\n",
    "fig = px.scatter(x, y)\n",
    "\n",
    "fig.show()"
   ]
  },
  {
   "cell_type": "code",
   "execution_count": null,
   "metadata": {},
   "outputs": [],
   "source": [
    "import plotly.express as px\n",
    "import random\n",
    "x = []\n",
    "y = []\n",
    "for i in range(100000):\n",
    "    random_number = random.randint(1, 10000)\n",
    "    x.append(i + random_number)\n",
    "    y.append(i + random_number)\n",
    "fig = px.scatter(x, y)\n",
    "\n",
    "fig.show()"
   ]
  },
  {
   "cell_type": "code",
   "execution_count": null,
   "metadata": {},
   "outputs": [],
   "source": [
    "import plotly.express as px\n",
    "import random\n",
    "x = []\n",
    "y = []\n",
    "for i in range(100000):\n",
    "    random_number = random.randint(1, 10000)\n",
    "    x.append(i + random_number)\n",
    "    y.append(i + random_number)\n",
    "fig = px.scatter(x, y)\n",
    "\n",
    "fig.show()"
   ]
  },
  {
   "cell_type": "code",
   "execution_count": null,
   "metadata": {},
   "outputs": [],
   "source": [
    "import plotly.express as px\n",
    "import random\n",
    "x = []\n",
    "y = []\n",
    "for i in range(100000):\n",
    "    random_number = random.randint(1, 10000)\n",
    "    x.append(i + random_number)\n",
    "    y.append(i + random_number)\n",
    "fig = px.scatter(x, y)\n",
    "\n",
    "fig.show()"
   ]
  },
  {
   "cell_type": "code",
   "execution_count": null,
   "metadata": {},
   "outputs": [],
   "source": [
    "import plotly.express as px\n",
    "import random\n",
    "x = []\n",
    "y = []\n",
    "for i in range(100000):\n",
    "    random_number = random.randint(1, 10000)\n",
    "    x.append(i + random_number)\n",
    "    y.append(i + random_number)\n",
    "fig = px.scatter(x, y)\n",
    "\n",
    "fig.show()"
   ]
  },
  {
   "cell_type": "code",
   "execution_count": null,
   "metadata": {},
   "outputs": [],
   "source": [
    "import plotly.express as px\n",
    "import random\n",
    "x = []\n",
    "y = []\n",
    "for i in range(100000):\n",
    "    random_number = random.randint(1, 10000)\n",
    "    x.append(i + random_number)\n",
    "    y.append(i + random_number)\n",
    "fig = px.scatter(x, y)\n",
    "\n",
    "fig.show()"
   ]
  },
  {
   "cell_type": "code",
   "execution_count": null,
   "metadata": {},
   "outputs": [],
   "source": [
    "import plotly.express as px\n",
    "import random\n",
    "x = []\n",
    "y = []\n",
    "for i in range(100000):\n",
    "    random_number = random.randint(1, 10000)\n",
    "    x.append(i + random_number)\n",
    "    y.append(i + random_number)\n",
    "fig = px.scatter(x, y)\n",
    "\n",
    "fig.show()"
   ]
  },
  {
   "cell_type": "code",
   "execution_count": null,
   "metadata": {},
   "outputs": [],
   "source": [
    "import plotly.express as px\n",
    "import random\n",
    "x = []\n",
    "y = []\n",
    "for i in range(100000):\n",
    "    random_number = random.randint(1, 10000)\n",
    "    x.append(i + random_number)\n",
    "    y.append(i + random_number)\n",
    "fig = px.scatter(x, y)\n",
    "\n",
    "fig.show()"
   ]
  },
  {
   "cell_type": "code",
   "execution_count": null,
   "metadata": {},
   "outputs": [],
   "source": [
    "import plotly.express as px\n",
    "import random\n",
    "x = []\n",
    "y = []\n",
    "for i in range(100000):\n",
    "    random_number = random.randint(1, 10000)\n",
    "    x.append(i + random_number)\n",
    "    y.append(i + random_number)\n",
    "fig = px.scatter(x, y)\n",
    "\n",
    "fig.show()"
   ]
  },
  {
   "cell_type": "code",
   "execution_count": null,
   "metadata": {},
   "outputs": [],
   "source": [
    "import plotly.express as px\n",
    "import random\n",
    "x = []\n",
    "y = []\n",
    "for i in range(100000):\n",
    "    random_number = random.randint(1, 10000)\n",
    "    x.append(i + random_number)\n",
    "    y.append(i + random_number)\n",
    "fig = px.scatter(x, y)\n",
    "\n",
    "fig.show()"
   ]
  },
  {
   "cell_type": "code",
   "execution_count": null,
   "metadata": {},
   "outputs": [],
   "source": [
    "import plotly.express as px\n",
    "import random\n",
    "x = []\n",
    "y = []\n",
    "for i in range(100000):\n",
    "    random_number = random.randint(1, 10000)\n",
    "    x.append(i + random_number)\n",
    "    y.append(i + random_number)\n",
    "fig = px.scatter(x, y)\n",
    "\n",
    "fig.show()"
   ]
  },
  {
   "cell_type": "code",
   "execution_count": null,
   "metadata": {},
   "outputs": [],
   "source": [
    "import plotly.express as px\n",
    "import random\n",
    "x = []\n",
    "y = []\n",
    "for i in range(100000):\n",
    "    random_number = random.randint(1, 10000)\n",
    "    x.append(i + random_number)\n",
    "    y.append(i + random_number)\n",
    "fig = px.scatter(x, y)\n",
    "\n",
    "fig.show()"
   ]
  },
  {
   "cell_type": "code",
   "execution_count": null,
   "metadata": {},
   "outputs": [],
   "source": [
    "import plotly.express as px\n",
    "import random\n",
    "x = []\n",
    "y = []\n",
    "for i in range(100000):\n",
    "    random_number = random.randint(1, 10000)\n",
    "    x.append(i + random_number)\n",
    "    y.append(i + random_number)\n",
    "fig = px.scatter(x, y)\n",
    "\n",
    "fig.show()"
   ]
  },
  {
   "cell_type": "code",
   "execution_count": null,
   "metadata": {},
   "outputs": [],
   "source": [
    "import plotly.express as px\n",
    "import random\n",
    "x = []\n",
    "y = []\n",
    "for i in range(100000):\n",
    "    random_number = random.randint(1, 10000)\n",
    "    x.append(i + random_number)\n",
    "    y.append(i + random_number)\n",
    "fig = px.scatter(x, y)\n",
    "\n",
    "fig.show()"
   ]
  },
  {
   "cell_type": "code",
   "execution_count": null,
   "metadata": {},
   "outputs": [],
   "source": [
    "import plotly.express as px\n",
    "import random\n",
    "x = []\n",
    "y = []\n",
    "for i in range(100000):\n",
    "    random_number = random.randint(1, 10000)\n",
    "    x.append(i + random_number)\n",
    "    y.append(i + random_number)\n",
    "fig = px.scatter(x, y)\n",
    "\n",
    "fig.show()"
   ]
  },
  {
   "cell_type": "code",
   "execution_count": null,
   "metadata": {},
   "outputs": [],
   "source": [
    "import plotly.express as px\n",
    "import random\n",
    "x = []\n",
    "y = []\n",
    "for i in range(100000):\n",
    "    random_number = random.randint(1, 10000)\n",
    "    x.append(i + random_number)\n",
    "    y.append(i + random_number)\n",
    "fig = px.scatter(x, y)\n",
    "\n",
    "fig.show()"
   ]
  },
  {
   "cell_type": "code",
   "execution_count": null,
   "metadata": {},
   "outputs": [],
   "source": [
    "import plotly.express as px\n",
    "import random\n",
    "x = []\n",
    "y = []\n",
    "for i in range(100000):\n",
    "    random_number = random.randint(1, 10000)\n",
    "    x.append(i + random_number)\n",
    "    y.append(i + random_number)\n",
    "fig = px.scatter(x, y)\n",
    "\n",
    "fig.show()"
   ]
  },
  {
   "cell_type": "code",
   "execution_count": null,
   "metadata": {},
   "outputs": [],
   "source": [
    "import plotly.express as px\n",
    "import random\n",
    "x = []\n",
    "y = []\n",
    "for i in range(100000):\n",
    "    random_number = random.randint(1, 10000)\n",
    "    x.append(i + random_number)\n",
    "    y.append(i + random_number)\n",
    "fig = px.scatter(x, y)\n",
    "\n",
    "fig.show()"
   ]
  },
  {
   "cell_type": "code",
   "execution_count": null,
   "metadata": {},
   "outputs": [],
   "source": [
    "import plotly.express as px\n",
    "import random\n",
    "x = []\n",
    "y = []\n",
    "for i in range(100000):\n",
    "    random_number = random.randint(1, 10000)\n",
    "    x.append(i + random_number)\n",
    "    y.append(i + random_number)\n",
    "fig = px.scatter(x, y)\n",
    "\n",
    "fig.show() # foo"
   ]
  },
  {
   "cell_type": "code",
   "execution_count": null,
   "metadata": {},
   "outputs": [],
   "source": [
    "import plotly.express as px\n",
    "import random\n",
    "x = []\n",
    "y = []\n",
    "for i in range(100000):\n",
    "    random_number = random.randint(1, 10000)\n",
    "    x.append(i + random_number)\n",
    "    y.append(i + random_number)\n",
    "fig = px.scatter(x, y)\n",
    "\n",
    "fig.show()"
   ]
  },
  {
   "cell_type": "code",
   "execution_count": null,
   "metadata": {},
   "outputs": [],
   "source": [
    "import plotly.express as px\n",
    "import random\n",
    "x = []\n",
    "y = []\n",
    "for i in range(100000):\n",
    "    random_number = random.randint(1, 10000)\n",
    "    x.append(i + random_number)\n",
    "    y.append(i + random_number)\n",
    "fig = px.scatter(x, y)\n",
    "\n",
    "fig.show()"
   ]
  },
  {
   "cell_type": "code",
   "execution_count": null,
   "metadata": {},
   "outputs": [],
   "source": [
    "import plotly.express as px\n",
    "import random\n",
    "x = []\n",
    "y = []\n",
    "for i in range(100000):\n",
    "    random_number = random.randint(1, 10000)\n",
    "    x.append(i + random_number)\n",
    "    y.append(i + random_number)\n",
    "fig = px.scatter(x, y)\n",
    "\n",
    "fig.show()"
   ]
  },
  {
   "cell_type": "code",
   "execution_count": null,
   "metadata": {},
   "outputs": [],
   "source": [
    "import plotly.express as px\n",
    "import random\n",
    "x = []\n",
    "y = []\n",
    "for i in range(100000):\n",
    "    random_number = random.randint(1, 10000)\n",
    "    x.append(i + random_number)\n",
    "    y.append(i + random_number)\n",
    "fig = px.scatter(x, y)\n",
    "\n",
    "fig.show()"
   ]
  },
  {
   "cell_type": "code",
   "execution_count": null,
   "metadata": {},
   "outputs": [],
   "source": [
    "import plotly.express as px\n",
    "import random\n",
    "x = []\n",
    "y = []\n",
    "for i in range(100000):\n",
    "    random_number = random.randint(1, 10000)\n",
    "    x.append(i + random_number)\n",
    "    y.append(i + random_number)\n",
    "fig = px.scatter(x, y)\n",
    "\n",
    "fig.show()"
   ]
  },
  {
   "cell_type": "code",
   "execution_count": null,
   "metadata": {},
   "outputs": [],
   "source": [
    "import plotly.express as px\n",
    "import random\n",
    "x = []\n",
    "y = []\n",
    "for i in range(100000):\n",
    "    random_number = random.randint(1, 10000)\n",
    "    x.append(i + random_number)\n",
    "    y.append(i + random_number)\n",
    "fig = px.scatter(x, y)\n",
    "\n",
    "fig.show()"
   ]
  },
  {
   "cell_type": "code",
   "execution_count": null,
   "metadata": {},
   "outputs": [],
   "source": [
    "import plotly.express as px\n",
    "import random\n",
    "x = []\n",
    "y = []\n",
    "for i in range(100000):\n",
    "    random_number = random.randint(1, 10000)\n",
    "    x.append(i + random_number)\n",
    "    y.append(i + random_number)\n",
    "fig = px.scatter(x, y)\n",
    "\n",
    "fig.show()"
   ]
  },
  {
   "cell_type": "code",
   "execution_count": null,
   "metadata": {},
   "outputs": [],
   "source": [
    "import plotly.express as px\n",
    "import random\n",
    "x = []\n",
    "y = []\n",
    "for i in range(100000):\n",
    "    random_number = random.randint(1, 10000)\n",
    "    x.append(i + random_number)\n",
    "    y.append(i + random_number)\n",
    "fig = px.scatter(x, y)\n",
    "\n",
    "fig.show()"
   ]
  },
  {
   "cell_type": "code",
   "execution_count": null,
   "metadata": {},
   "outputs": [],
   "source": [
    "import plotly.express as px\n",
    "import random\n",
    "x = []\n",
    "y = []\n",
    "for i in range(100000):\n",
    "    random_number = random.randint(1, 10000)\n",
    "    x.append(i + random_number)\n",
    "    y.append(i + random_number)\n",
    "fig = px.scatter(x, y)\n",
    "\n",
    "fig.show()"
   ]
  },
  {
   "cell_type": "code",
   "execution_count": null,
   "metadata": {},
   "outputs": [],
   "source": [
    "import plotly.express as px\n",
    "import random\n",
    "x = []\n",
    "y = []\n",
    "for i in range(100000):\n",
    "    random_number = random.randint(1, 10000)\n",
    "    x.append(i + random_number)\n",
    "    y.append(i + random_number)\n",
    "fig = px.scatter(x, y)\n",
    "\n",
    "fig.show()"
   ]
  },
  {
   "cell_type": "code",
   "execution_count": null,
   "metadata": {},
   "outputs": [],
   "source": [
    "import plotly.express as px\n",
    "import random\n",
    "x = []\n",
    "y = []\n",
    "for i in range(100000):\n",
    "    random_number = random.randint(1, 10000)\n",
    "    x.append(i + random_number)\n",
    "    y.append(i + random_number)\n",
    "fig = px.scatter(x, y)\n",
    "\n",
    "fig.show()"
   ]
  },
  {
   "cell_type": "code",
   "execution_count": null,
   "metadata": {},
   "outputs": [],
   "source": [
    "import plotly.express as px\n",
    "import random\n",
    "x = []\n",
    "y = []\n",
    "for i in range(100000):\n",
    "    random_number = random.randint(1, 10000)\n",
    "    x.append(i + random_number)\n",
    "    y.append(i + random_number)\n",
    "fig = px.scatter(x, y)\n",
    "\n",
    "fig.show()"
   ]
  },
  {
   "cell_type": "code",
   "execution_count": null,
   "metadata": {},
   "outputs": [],
   "source": [
    "import plotly.express as px\n",
    "import random\n",
    "x = []\n",
    "y = []\n",
    "for i in range(100000):\n",
    "    random_number = random.randint(1, 10000)\n",
    "    x.append(i + random_number)\n",
    "    y.append(i + random_number)\n",
    "fig = px.scatter(x, y)\n",
    "\n",
    "fig.show()"
   ]
  },
  {
   "cell_type": "code",
   "execution_count": null,
   "metadata": {},
   "outputs": [],
   "source": [
    "import plotly.express as px\n",
    "import random\n",
    "x = []\n",
    "y = []\n",
    "for i in range(100000):\n",
    "    random_number = random.randint(1, 10000)\n",
    "    x.append(i + random_number)\n",
    "    y.append(i + random_number)\n",
    "fig = px.scatter(x, y)\n",
    "\n",
    "fig.show()"
   ]
  },
  {
   "cell_type": "code",
   "execution_count": null,
   "metadata": {},
   "outputs": [],
   "source": [
    "import plotly.express as px\n",
    "import random\n",
    "x = []\n",
    "y = []\n",
    "for i in range(100000):\n",
    "    random_number = random.randint(1, 10000)\n",
    "    x.append(i + random_number)\n",
    "    y.append(i + random_number)\n",
    "fig = px.scatter(x, y)\n",
    "\n",
    "fig.show()"
   ]
  },
  {
   "cell_type": "code",
   "execution_count": null,
   "metadata": {},
   "outputs": [],
   "source": [
    "import plotly.express as px\n",
    "import random\n",
    "x = []\n",
    "y = []\n",
    "for i in range(100000):\n",
    "    random_number = random.randint(1, 10000)\n",
    "    x.append(i + random_number)\n",
    "    y.append(i + random_number)\n",
    "fig = px.scatter(x, y)\n",
    "\n",
    "fig.show()"
   ]
  },
  {
   "cell_type": "code",
   "execution_count": null,
   "metadata": {},
   "outputs": [],
   "source": [
    "import plotly.express as px\n",
    "import random\n",
    "x = []\n",
    "y = []\n",
    "for i in range(100000):\n",
    "    random_number = random.randint(1, 10000)\n",
    "    x.append(i + random_number)\n",
    "    y.append(i + random_number)\n",
    "fig = px.scatter(x, y)\n",
    "\n",
    "fig.show()"
   ]
  },
  {
   "cell_type": "code",
   "execution_count": null,
   "metadata": {},
   "outputs": [],
   "source": [
    "import plotly.express as px\n",
    "import random\n",
    "x = []\n",
    "y = []\n",
    "for i in range(100000):\n",
    "    random_number = random.randint(1, 10000)\n",
    "    x.append(i + random_number)\n",
    "    y.append(i + random_number)\n",
    "fig = px.scatter(x, y)\n",
    "\n",
    "fig.show()"
   ]
  },
  {
   "cell_type": "code",
   "execution_count": null,
   "metadata": {},
   "outputs": [],
   "source": [
    "import plotly.express as px\n",
    "import random\n",
    "x = []\n",
    "y = []\n",
    "for i in range(100000):\n",
    "    random_number = random.randint(1, 10000)\n",
    "    x.append(i + random_number)\n",
    "    y.append(i + random_number)\n",
    "fig = px.scatter(x, y)\n",
    "\n",
    "fig.show()"
   ]
  },
  {
   "cell_type": "code",
   "execution_count": null,
   "metadata": {},
   "outputs": [],
   "source": [
    "import plotly.express as px\n",
    "import random\n",
    "x = []\n",
    "y = []\n",
    "for i in range(100000):\n",
    "    random_number = random.randint(1, 10000)\n",
    "    x.append(i + random_number)\n",
    "    y.append(i + random_number)\n",
    "fig = px.scatter(x, y)\n",
    "\n",
    "fig.show()"
   ]
  },
  {
   "cell_type": "code",
   "execution_count": null,
   "metadata": {},
   "outputs": [],
   "source": [
    "import plotly.express as px\n",
    "import random\n",
    "x = []\n",
    "y = []\n",
    "for i in range(100000):\n",
    "    random_number = random.randint(1, 10000)\n",
    "    x.append(i + random_number)\n",
    "    y.append(i + random_number)\n",
    "fig = px.scatter(x, y)\n",
    "\n",
    "fig.show()"
   ]
  },
  {
   "cell_type": "code",
   "execution_count": null,
   "metadata": {},
   "outputs": [],
   "source": [
    "import plotly.express as px\n",
    "import random\n",
    "x = []\n",
    "y = []\n",
    "for i in range(100000):\n",
    "    random_number = random.randint(1, 10000)\n",
    "    x.append(i + random_number)\n",
    "    y.append(i + random_number)\n",
    "fig = px.scatter(x, y)\n",
    "\n",
    "fig.show()"
   ]
  },
  {
   "cell_type": "code",
   "execution_count": null,
   "metadata": {},
   "outputs": [],
   "source": [
    "import plotly.express as px\n",
    "import random\n",
    "x = []\n",
    "y = []\n",
    "for i in range(100000):\n",
    "    random_number = random.randint(1, 10000)\n",
    "    x.append(i + random_number)\n",
    "    y.append(i + random_number)\n",
    "fig = px.scatter(x, y)\n",
    "\n",
    "fig.show()"
   ]
  },
  {
   "cell_type": "code",
   "execution_count": null,
   "metadata": {},
   "outputs": [],
   "source": [
    "import plotly.express as px\n",
    "import random\n",
    "x = []\n",
    "y = []\n",
    "for i in range(100000):\n",
    "    random_number = random.randint(1, 10000)\n",
    "    x.append(i + random_number)\n",
    "    y.append(i + random_number)\n",
    "fig = px.scatter(x, y)\n",
    "\n",
    "fig.show()"
   ]
  },
  {
   "cell_type": "code",
   "execution_count": null,
   "metadata": {},
   "outputs": [],
   "source": [
    "import plotly.express as px\n",
    "import random\n",
    "x = []\n",
    "y = []\n",
    "for i in range(100000):\n",
    "    random_number = random.randint(1, 10000)\n",
    "    x.append(i + random_number)\n",
    "    y.append(i + random_number)\n",
    "fig = px.scatter(x, y)\n",
    "\n",
    "fig.show()"
   ]
  },
  {
   "cell_type": "code",
   "execution_count": null,
   "metadata": {},
   "outputs": [],
   "source": [
    "import plotly.express as px\n",
    "import random\n",
    "x = []\n",
    "y = []\n",
    "for i in range(100000):\n",
    "    random_number = random.randint(1, 10000)\n",
    "    x.append(i + random_number)\n",
    "    y.append(i + random_number)\n",
    "fig = px.scatter(x, y)\n",
    "\n",
    "fig.show()"
   ]
  },
  {
   "cell_type": "code",
   "execution_count": null,
   "metadata": {},
   "outputs": [],
   "source": [
    "import plotly.express as px\n",
    "import random\n",
    "x = []\n",
    "y = []\n",
    "for i in range(100000):\n",
    "    random_number = random.randint(1, 10000)\n",
    "    x.append(i + random_number)\n",
    "    y.append(i + random_number)\n",
    "fig = px.scatter(x, y)\n",
    "\n",
    "fig.show()"
   ]
  },
  {
   "cell_type": "code",
   "execution_count": null,
   "metadata": {},
   "outputs": [],
   "source": [
    "import plotly.express as px\n",
    "import random\n",
    "x = []\n",
    "y = []\n",
    "for i in range(100000):\n",
    "    random_number = random.randint(1, 10000)\n",
    "    x.append(i + random_number)\n",
    "    y.append(i + random_number)\n",
    "fig = px.scatter(x, y)\n",
    "\n",
    "fig.show()"
   ]
  },
  {
   "cell_type": "code",
   "execution_count": null,
   "metadata": {},
   "outputs": [],
   "source": [
    "import plotly.express as px\n",
    "import random\n",
    "x = []\n",
    "y = []\n",
    "for i in range(100000):\n",
    "    random_number = random.randint(1, 10000)\n",
    "    x.append(i + random_number)\n",
    "    y.append(i + random_number)\n",
    "fig = px.scatter(x, y)\n",
    "\n",
    "fig.show()"
   ]
  },
  {
   "cell_type": "code",
   "execution_count": null,
   "metadata": {},
   "outputs": [],
   "source": [
    "import plotly.express as px\n",
    "import random\n",
    "x = []\n",
    "y = []\n",
    "for i in range(100000):\n",
    "    random_number = random.randint(1, 10000)\n",
    "    x.append(i + random_number)\n",
    "    y.append(i + random_number)\n",
    "fig = px.scatter(x, y)\n",
    "\n",
    "fig.show()"
   ]
  },
  {
   "cell_type": "code",
   "execution_count": null,
   "metadata": {},
   "outputs": [],
   "source": [
    "print(410)"
   ]
  }
 ],
 "metadata": {
  "kernelspec": {
   "display_name": "foo",
   "language": "python",
   "name": "python3"
  },
  "language_info": {
   "codemirror_mode": {
    "name": "ipython",
    "version": 3
   },
   "file_extension": ".py",
   "mimetype": "text/x-python",
   "name": "python",
   "nbconvert_exporter": "python",
   "pygments_lexer": "ipython3",
   "version": "3.8.10"
  }
 },
 "nbformat": 4,
 "nbformat_minor": 2
}
